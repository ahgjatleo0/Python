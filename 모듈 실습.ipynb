{
 "cells": [
  {
   "cell_type": "code",
   "execution_count": 1,
   "id": "bd629326",
   "metadata": {
    "ExecuteTime": {
     "end_time": "2023-03-20T02:46:39.909734Z",
     "start_time": "2023-03-20T02:46:39.894680Z"
    }
   },
   "outputs": [],
   "source": [
    "# 모듈 사용하기\n",
    "# 모듈 불러오기\n",
    "import ksr_module as km"
   ]
  },
  {
   "cell_type": "code",
   "execution_count": 2,
   "id": "d305b3ba",
   "metadata": {
    "ExecuteTime": {
     "end_time": "2023-03-20T02:48:00.248160Z",
     "start_time": "2023-03-20T02:48:00.229803Z"
    }
   },
   "outputs": [
    {
     "data": {
      "text/plain": [
       "15"
      ]
     },
     "execution_count": 2,
     "metadata": {},
     "output_type": "execute_result"
    }
   ],
   "source": [
    "# 더하기 기능 실행\n",
    "km.add(10, 5)"
   ]
  },
  {
   "cell_type": "code",
   "execution_count": 4,
   "id": "8e00b5a7",
   "metadata": {
    "ExecuteTime": {
     "end_time": "2023-03-20T02:48:34.326387Z",
     "start_time": "2023-03-20T02:48:34.317091Z"
    }
   },
   "outputs": [
    {
     "data": {
      "text/plain": [
       "5"
      ]
     },
     "execution_count": 4,
     "metadata": {},
     "output_type": "execute_result"
    }
   ],
   "source": [
    "# 빼기 기능 실행\n",
    "km.sub(10,5)"
   ]
  },
  {
   "cell_type": "code",
   "execution_count": 7,
   "id": "6f522a9b",
   "metadata": {
    "ExecuteTime": {
     "end_time": "2023-03-20T02:49:48.207365Z",
     "start_time": "2023-03-20T02:49:48.191190Z"
    }
   },
   "outputs": [],
   "source": [
    "# 특정 기능 하나만 꺼내오기\n",
    "from ksr_module import mul"
   ]
  },
  {
   "cell_type": "code",
   "execution_count": 8,
   "id": "01756279",
   "metadata": {
    "ExecuteTime": {
     "end_time": "2023-03-20T02:50:02.838614Z",
     "start_time": "2023-03-20T02:50:02.829627Z"
    }
   },
   "outputs": [
    {
     "data": {
      "text/plain": [
       "21"
      ]
     },
     "execution_count": 8,
     "metadata": {},
     "output_type": "execute_result"
    }
   ],
   "source": [
    "mul(3, 7)"
   ]
  },
  {
   "cell_type": "code",
   "execution_count": null,
   "id": "2096a01f",
   "metadata": {},
   "outputs": [],
   "source": []
  },
  {
   "cell_type": "code",
   "execution_count": null,
   "id": "2c4351ef",
   "metadata": {},
   "outputs": [],
   "source": []
  }
 ],
 "metadata": {
  "kernelspec": {
   "display_name": "Python 3 (ipykernel)",
   "language": "python",
   "name": "python3"
  },
  "language_info": {
   "codemirror_mode": {
    "name": "ipython",
    "version": 3
   },
   "file_extension": ".py",
   "mimetype": "text/x-python",
   "name": "python",
   "nbconvert_exporter": "python",
   "pygments_lexer": "ipython3",
   "version": "3.9.13"
  },
  "toc": {
   "base_numbering": 1,
   "nav_menu": {},
   "number_sections": true,
   "sideBar": true,
   "skip_h1_title": false,
   "title_cell": "Table of Contents",
   "title_sidebar": "Contents",
   "toc_cell": false,
   "toc_position": {},
   "toc_section_display": true,
   "toc_window_display": false
  },
  "varInspector": {
   "cols": {
    "lenName": 16,
    "lenType": 16,
    "lenVar": 40
   },
   "kernels_config": {
    "python": {
     "delete_cmd_postfix": "",
     "delete_cmd_prefix": "del ",
     "library": "var_list.py",
     "varRefreshCmd": "print(var_dic_list())"
    },
    "r": {
     "delete_cmd_postfix": ") ",
     "delete_cmd_prefix": "rm(",
     "library": "var_list.r",
     "varRefreshCmd": "cat(var_dic_list()) "
    }
   },
   "types_to_exclude": [
    "module",
    "function",
    "builtin_function_or_method",
    "instance",
    "_Feature"
   ],
   "window_display": false
  }
 },
 "nbformat": 4,
 "nbformat_minor": 5
}
