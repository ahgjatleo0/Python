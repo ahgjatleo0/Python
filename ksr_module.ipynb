{
 "cells": [
  {
   "cell_type": "markdown",
   "id": "a493c48f",
   "metadata": {},
   "source": [
    "### 더하기 함수"
   ]
  },
  {
   "cell_type": "code",
   "execution_count": null,
   "id": "419275c6",
   "metadata": {},
   "outputs": [],
   "source": [
    "def add(num1, num2) :\n",
    "    return  num1 + num2\n"
   ]
  },
  {
   "cell_type": "markdown",
   "id": "952c1c68",
   "metadata": {},
   "source": [
    "### 빼기 함수"
   ]
  },
  {
   "cell_type": "code",
   "execution_count": null,
   "id": "2b1b6144",
   "metadata": {},
   "outputs": [],
   "source": [
    "def sub(num1, num2) :\n",
    "    return  num1 - num2"
   ]
  },
  {
   "cell_type": "markdown",
   "id": "5c847d02",
   "metadata": {},
   "source": [
    "### 곱하기 함수"
   ]
  },
  {
   "cell_type": "code",
   "execution_count": null,
   "id": "cb89e0a5",
   "metadata": {},
   "outputs": [],
   "source": [
    "def mul(num1, num2) :\n",
    "    return num1 * num2"
   ]
  },
  {
   "cell_type": "markdown",
   "id": "a5a72a82",
   "metadata": {},
   "source": [
    "### 나누기 함수"
   ]
  },
  {
   "cell_type": "code",
   "execution_count": null,
   "id": "dab95978",
   "metadata": {},
   "outputs": [],
   "source": [
    "def div(num1, num2) :\n",
    "    return num1 / num2"
   ]
  },
  {
   "cell_type": "code",
   "execution_count": null,
   "id": "766994c1",
   "metadata": {},
   "outputs": [],
   "source": []
  },
  {
   "cell_type": "code",
   "execution_count": null,
   "id": "82802d28",
   "metadata": {},
   "outputs": [],
   "source": []
  },
  {
   "cell_type": "code",
   "execution_count": null,
   "id": "26238cec",
   "metadata": {},
   "outputs": [],
   "source": []
  },
  {
   "cell_type": "code",
   "execution_count": null,
   "id": "0da12f5b",
   "metadata": {},
   "outputs": [],
   "source": []
  },
  {
   "cell_type": "code",
   "execution_count": null,
   "id": "9a899aaa",
   "metadata": {},
   "outputs": [],
   "source": []
  },
  {
   "cell_type": "code",
   "execution_count": null,
   "id": "c61829af",
   "metadata": {},
   "outputs": [],
   "source": []
  },
  {
   "cell_type": "code",
   "execution_count": null,
   "id": "c66d97ee",
   "metadata": {},
   "outputs": [],
   "source": []
  },
  {
   "cell_type": "code",
   "execution_count": null,
   "id": "eccc32b4",
   "metadata": {},
   "outputs": [],
   "source": []
  },
  {
   "cell_type": "code",
   "execution_count": null,
   "id": "97ddd03c",
   "metadata": {},
   "outputs": [],
   "source": []
  },
  {
   "cell_type": "code",
   "execution_count": null,
   "id": "d15eb870",
   "metadata": {},
   "outputs": [],
   "source": []
  }
 ],
 "metadata": {
  "kernelspec": {
   "display_name": "Python 3 (ipykernel)",
   "language": "python",
   "name": "python3"
  },
  "language_info": {
   "codemirror_mode": {
    "name": "ipython",
    "version": 3
   },
   "file_extension": ".py",
   "mimetype": "text/x-python",
   "name": "python",
   "nbconvert_exporter": "python",
   "pygments_lexer": "ipython3",
   "version": "3.9.13"
  },
  "toc": {
   "base_numbering": 1,
   "nav_menu": {},
   "number_sections": true,
   "sideBar": true,
   "skip_h1_title": false,
   "title_cell": "Table of Contents",
   "title_sidebar": "Contents",
   "toc_cell": false,
   "toc_position": {},
   "toc_section_display": true,
   "toc_window_display": false
  },
  "varInspector": {
   "cols": {
    "lenName": 16,
    "lenType": 16,
    "lenVar": 40
   },
   "kernels_config": {
    "python": {
     "delete_cmd_postfix": "",
     "delete_cmd_prefix": "del ",
     "library": "var_list.py",
     "varRefreshCmd": "print(var_dic_list())"
    },
    "r": {
     "delete_cmd_postfix": ") ",
     "delete_cmd_prefix": "rm(",
     "library": "var_list.r",
     "varRefreshCmd": "cat(var_dic_list()) "
    }
   },
   "types_to_exclude": [
    "module",
    "function",
    "builtin_function_or_method",
    "instance",
    "_Feature"
   ],
   "window_display": false
  }
 },
 "nbformat": 4,
 "nbformat_minor": 5
}
